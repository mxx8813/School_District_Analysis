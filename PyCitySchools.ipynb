{
 "cells": [
  {
   "cell_type": "code",
   "execution_count": null,
   "id": "606bace0",
   "metadata": {},
   "outputs": [],
   "source": [
    "import pandas as pd\n",
    "\n",
    "school_data_to_load = \"Resources/schools_complete.csv\"\n",
    "student_data_to_load = \"Resources/students_complete.csv\"\n"
   ]
  },
  {
   "cell_type": "code",
   "execution_count": null,
   "id": "563b29fe",
   "metadata": {},
   "outputs": [],
   "source": [
    "school_data_df = pd.read_csv(school_data_to_load)\n",
    "pd.DataFrame(school_data_df).head()"
   ]
  },
  {
   "cell_type": "code",
   "execution_count": null,
   "id": "503349ec",
   "metadata": {},
   "outputs": [],
   "source": [
    "student_data_df = pd.read_csv(student_data_to_load)\n",
    "student_data_df.head()\n"
   ]
  },
  {
   "cell_type": "code",
   "execution_count": null,
   "id": "61f4b1ef",
   "metadata": {},
   "outputs": [],
   "source": [
    "school_data_df.count()"
   ]
  },
  {
   "cell_type": "code",
   "execution_count": null,
   "id": "c07f2c03",
   "metadata": {},
   "outputs": [],
   "source": [
    "student_data_df.count()"
   ]
  },
  {
   "cell_type": "code",
   "execution_count": null,
   "id": "5867f6f3",
   "metadata": {},
   "outputs": [],
   "source": [
    "school_data_df.isnull()"
   ]
  },
  {
   "cell_type": "code",
   "execution_count": null,
   "id": "0616e827",
   "metadata": {},
   "outputs": [],
   "source": [
    "student_data_df.isnull().sum()"
   ]
  },
  {
   "cell_type": "code",
   "execution_count": null,
   "id": "eb252f29",
   "metadata": {},
   "outputs": [],
   "source": [
    "student_data_df.notnull().sum()"
   ]
  },
  {
   "cell_type": "code",
   "execution_count": null,
   "id": "153b04a7",
   "metadata": {},
   "outputs": [],
   "source": [
    "school_data_df[\"size\"].dtypes"
   ]
  },
  {
   "cell_type": "code",
   "execution_count": null,
   "id": "703e0fc5",
   "metadata": {},
   "outputs": [],
   "source": [
    "student_data_df.dtypes"
   ]
  },
  {
   "cell_type": "code",
   "execution_count": null,
   "id": "55f2c8dc",
   "metadata": {},
   "outputs": [],
   "source": [
    "prefixes_suffixes = [\"Dr. \", \"Mr. \",\"Ms. \", \"Mrs. \", \"Miss \", \" MD\", \" DDS\", \" DVM\", \" PhD\"]\n",
    "for word in prefixes_suffixes:\n",
    "    student_data_df[\"student_name\"] = student_data_df[\"student_name\"].str.replace(word,\"\",regex=True)\n",
    "\n",
    "student_data_df.head(10)\n"
   ]
  },
  {
   "cell_type": "code",
   "execution_count": null,
   "id": "4bb32c0b",
   "metadata": {},
   "outputs": [],
   "source": [
    "school_data_complete_df = pd.merge(student_data_df, school_data_df,on=[\"school_name\", \"school_name\"])\n",
    "school_data_complete_df.tail(2)"
   ]
  },
  {
   "cell_type": "code",
   "execution_count": null,
   "id": "a349f0ce",
   "metadata": {},
   "outputs": [],
   "source": [
    "student_count = school_data_complete_df[\"school_name\"].count()\n",
    "student_count"
   ]
  },
  {
   "cell_type": "code",
   "execution_count": null,
   "id": "01b43b39",
   "metadata": {},
   "outputs": [],
   "source": [
    "school_count = school_data_df[\"school_name\"].count()\n",
    "school_count"
   ]
  },
  {
   "cell_type": "code",
   "execution_count": null,
   "id": "a3200728",
   "metadata": {},
   "outputs": [],
   "source": [
    "school_count_2 = len(school_data_complete_df[\"school_name\"].unique())\n",
    "school_count_2"
   ]
  },
  {
   "cell_type": "code",
   "execution_count": null,
   "id": "6e611a99",
   "metadata": {},
   "outputs": [],
   "source": [
    "total_budget = school_data_df['budget'].sum()\n",
    "total_budget"
   ]
  },
  {
   "cell_type": "code",
   "execution_count": null,
   "id": "44c9dcb4",
   "metadata": {},
   "outputs": [],
   "source": [
    "average_reading_score = school_data_complete_df['reading_score'].mean()\n",
    "average_reading_score"
   ]
  },
  {
   "cell_type": "code",
   "execution_count": null,
   "id": "c98e0950",
   "metadata": {},
   "outputs": [],
   "source": [
    "average_math_score = school_data_complete_df['math_score'].mean()\n",
    "average_math_score"
   ]
  },
  {
   "cell_type": "code",
   "execution_count": null,
   "id": "bad8e258",
   "metadata": {},
   "outputs": [],
   "source": [
    "passing_math = school_data_complete_df[school_data_complete_df[\"math_score\"] >= 70]\n",
    "passing_math"
   ]
  },
  {
   "cell_type": "code",
   "execution_count": null,
   "id": "fe34bb52",
   "metadata": {},
   "outputs": [],
   "source": [
    "passing_reading = school_data_complete_df[school_data_complete_df[\"reading_score\"] >= 70]\n",
    "passing_reading"
   ]
  },
  {
   "cell_type": "code",
   "execution_count": null,
   "id": "a23f3b36",
   "metadata": {},
   "outputs": [],
   "source": [
    "passing_math_count = passing_math[\"student_name\"].count()\n",
    "passing_reading_count = passing_reading[\"student_name\"].count()\n",
    "\n",
    "print(passing_math_count)\n",
    "print(passing_reading_count)"
   ]
  },
  {
   "cell_type": "code",
   "execution_count": null,
   "id": "f84a8e75",
   "metadata": {},
   "outputs": [],
   "source": [
    "# Calculate the percent that passed math.\n",
    "passing_math_percentage = passing_math_count / student_count[\"student_name\"] * 100\n",
    "\n",
    "# Calculate the percent that passed reading.\n",
    "passing_reading_percentage = passing_reading_count / student_count[\"student_name\"] * 100\n",
    "\n",
    "print(passing_math_percentage)\n",
    "print(passing_reading_percentage)"
   ]
  },
  {
   "cell_type": "code",
   "execution_count": null,
   "id": "c9917bcf",
   "metadata": {},
   "outputs": [],
   "source": [
    "passing_math_reading = school_data_complete_df[(school_data_complete_df[\"math_score\"] >= 70) & \n",
    "                                               (school_data_complete_df[\"reading_score\"] >= 70)]\n",
    "\n",
    "passing_math_reading.head()"
   ]
  },
  {
   "cell_type": "code",
   "execution_count": null,
   "id": "fea807b7",
   "metadata": {},
   "outputs": [],
   "source": [
    "overall_passing_math_reading_count = passing_math_reading[\"student_name\"].count()\n",
    "overall_passing_math_reading_count"
   ]
  },
  {
   "cell_type": "code",
   "execution_count": null,
   "id": "f4d534da",
   "metadata": {},
   "outputs": [],
   "source": [
    "overall_passing_percentage = overall_passing_math_reading_count / student_count[\"student_name\"] * 100\n",
    "overall_passing_percentage"
   ]
  },
  {
   "cell_type": "code",
   "execution_count": null,
   "id": "1fbb3379",
   "metadata": {},
   "outputs": [],
   "source": [
    "district_summary_df = pd.DataFrame(\n",
    "    [{\"Total Schools\": school_count,\n",
    "      \"Total Students\": student_count,\n",
    "      \"Total Budget\": total_budget,\n",
    "      \"Average Math Score\": average_math_score,\n",
    "      \"Average Reading Score\": average_reading_score,\n",
    "      \"% Passing Math\": passing_math_percentage,\n",
    "      \"% Passing Reading\": passing_reading_percentage,\n",
    "      \"% Overall Passing\": overall_passing_percentage}])\n",
    "district_summary_df"
   ]
  },
  {
   "cell_type": "code",
   "execution_count": null,
   "id": "0d47c321",
   "metadata": {},
   "outputs": [],
   "source": [
    "def passing_math_percent(passing_math_count, total_student_count):\n",
    "    return passing_math_count / float(total_student_count) * 100\n"
   ]
  },
  {
   "cell_type": "code",
   "execution_count": null,
   "id": "e0db17f1",
   "metadata": {},
   "outputs": [],
   "source": [
    "passing_math_count = 29370\n",
    "total_student_count = 39170\n",
    "\n",
    "passing_math_percent(passing_math_count, total_student_count)"
   ]
  },
  {
   "cell_type": "code",
   "execution_count": null,
   "id": "6cee5f5b",
   "metadata": {},
   "outputs": [],
   "source": [
    "district_summary_df[\"Total Students\"] = district_summary_df[\"Total Students\"].map(\"{:,}\".format)\n",
    "\n",
    "district_summary_df[\"Total Students\"]"
   ]
  },
  {
   "cell_type": "code",
   "execution_count": null,
   "id": "f8ecdb9e",
   "metadata": {},
   "outputs": [],
   "source": [
    "district_summary_df[\"Total Budget\"] = district_summary_df[\"Total Budget\"].map(\"${:,.2f}\".format)\n",
    "\n",
    "district_summary_df[\"Total Budget\"]"
   ]
  },
  {
   "cell_type": "code",
   "execution_count": null,
   "id": "09b91c4e",
   "metadata": {},
   "outputs": [],
   "source": [
    "district_summary_df[\"% Overall Passing\"] = district_summary_df[\"% Overall Passing\"].map(\"{:.0f}\".format)\n",
    "\n",
    "district_summary_df[\"% Passing Reading\"] = district_summary_df[\"% Passing Reading\"].map(\"{:.0f}\".format)\n",
    "\n",
    "district_summary_df[\"% Passing Math\"] = district_summary_df[\"% Passing Math\"].map(\"{:.0f}\".format)\n",
    "\n",
    "district_summary_df[\"Average Reading Score\"] = district_summary_df[\"Average Reading Score\"].map(\"{:.1f}\".format)\n",
    "\n",
    "district_summary_df[\"Average Math Score\"] = district_summary_df[\"Average Math Score\"].map(\"{:.1f}\".format)\n"
   ]
  },
  {
   "cell_type": "code",
   "execution_count": null,
   "id": "0d176ac0",
   "metadata": {},
   "outputs": [],
   "source": [
    "district_summary_df"
   ]
  },
  {
   "cell_type": "code",
   "execution_count": null,
   "id": "dcbfe02a",
   "metadata": {},
   "outputs": [],
   "source": [
    "\n",
    "new_column_order = [\"Total Schools\", \"Total Students\", \"Total Budget\",\"Average Math Score\", \"Average Reading Score\", \"% Passing Math\", \"% Passing Reading\", \"% Overall Passing\"]\n",
    "\n",
    "# Assign district summary df the new column order.\n",
    "district_summary_df = district_summary_df[new_column_order]\n",
    "district_summary_df"
   ]
  },
  {
   "cell_type": "code",
   "execution_count": null,
   "id": "02bae826",
   "metadata": {},
   "outputs": [],
   "source": [
    "per_school_types = school_data_df.set_index([\"school_name\"])[\"type\"]\n",
    "df = pd.DataFrame(per_school_types)\n",
    "df"
   ]
  },
  {
   "cell_type": "code",
   "execution_count": null,
   "id": "42b5cd6d",
   "metadata": {},
   "outputs": [],
   "source": [
    "per_school_counts = school_data_df.set_index([\"school_name\"])[\"size\"]\n",
    "per_school_counts"
   ]
  },
  {
   "cell_type": "code",
   "execution_count": null,
   "id": "2ef4db84",
   "metadata": {},
   "outputs": [],
   "source": [
    "# Calculate the total student count by school.\n",
    "per_school_counts = school_data_complete_df[\"school_name\"].value_counts()\n",
    "per_school_counts"
   ]
  },
  {
   "cell_type": "code",
   "execution_count": null,
   "id": "6cc7514f",
   "metadata": {},
   "outputs": [],
   "source": [
    "per_school_budget = school_data_df.set_index([\"school_name\"])[\"budget\"]\n",
    "per_school_budget"
   ]
  },
  {
   "cell_type": "code",
   "execution_count": null,
   "id": "5a0a7dd2",
   "metadata": {},
   "outputs": [],
   "source": [
    "per_school_capita = per_school_budget / per_school_counts\n",
    "\n",
    "per_school_capita"
   ]
  },
  {
   "cell_type": "code",
   "execution_count": null,
   "id": "0632e913",
   "metadata": {},
   "outputs": [],
   "source": [
    "student_school_math = student_data_df.set_index([\"school_name\"])[\"math_score\"]\n",
    "student_school_math"
   ]
  },
  {
   "cell_type": "code",
   "execution_count": null,
   "id": "07984542",
   "metadata": {},
   "outputs": [],
   "source": [
    "per_school_averages = school_data_complete_df.groupby([\"school_name\"]).mean()\n",
    "per_school_averages"
   ]
  },
  {
   "cell_type": "code",
   "execution_count": null,
   "id": "c0c5e0b0",
   "metadata": {},
   "outputs": [],
   "source": [
    "per_school_math = school_data_complete_df.groupby([\"school_name\"]).mean()[\"math_score\"]\n",
    "per_school_math"
   ]
  },
  {
   "cell_type": "code",
   "execution_count": null,
   "id": "8820e639",
   "metadata": {},
   "outputs": [],
   "source": [
    "per_school_reading = school_data_complete_df.groupby([\"school_name\"]).mean()[\"reading_score\"]\n",
    "per_school_reading"
   ]
  },
  {
   "cell_type": "code",
   "execution_count": null,
   "id": "85c27df2",
   "metadata": {},
   "outputs": [],
   "source": [
    "per_school_passing_math = school_data_complete_df[(school_data_complete_df[\"math_score\"] >= 70)]\n",
    "per_school_passing_math"
   ]
  },
  {
   "cell_type": "code",
   "execution_count": null,
   "id": "f2202704",
   "metadata": {},
   "outputs": [],
   "source": [
    "per_school_passing_reading = school_data_complete_df[(school_data_complete_df[\"reading_score\"] >= 70)]\n",
    "\n",
    "per_school_passing_reading"
   ]
  },
  {
   "cell_type": "code",
   "execution_count": null,
   "id": "0fc2579c",
   "metadata": {},
   "outputs": [],
   "source": [
    "per_school_passing_math_counts = per_school_passing_math.groupby([\"school_name\"]).count()[\"student_name\"]\n",
    "per_school_passing_math_counts"
   ]
  },
  {
   "cell_type": "code",
   "execution_count": null,
   "id": "e56ae6f2",
   "metadata": {},
   "outputs": [],
   "source": [
    "per_school_passing_reading_counts = per_school_passing_reading.groupby([\"school_name\"]).count()[\"student_name\"]\n",
    "per_school_passing_reading_counts"
   ]
  },
  {
   "cell_type": "code",
   "execution_count": null,
   "id": "52d67adf",
   "metadata": {},
   "outputs": [],
   "source": [
    "per_school_passing_math = per_school_passing_math_counts / per_school_counts * 100\n",
    "\n",
    "per_school_passing_reading = per_school_passing_reading_counts / per_school_counts * 100\n",
    "\n",
    "print(per_school_passing_math)\n",
    "print(per_school_passing_reading)"
   ]
  },
  {
   "cell_type": "code",
   "execution_count": null,
   "id": "e15e4a31",
   "metadata": {},
   "outputs": [],
   "source": [
    "per_passing_math_reading = school_data_complete_df[(school_data_complete_df[\"math_score\"] >= 70) & (school_data_complete_df[\"reading_score\"] >= 70)]\n",
    "\n",
    "per_passing_math_reading.head()"
   ]
  },
  {
   "cell_type": "code",
   "execution_count": null,
   "id": "0a80f8a0",
   "metadata": {},
   "outputs": [],
   "source": [
    "per_passing_math_reading_count = per_passing_math_reading.groupby([\"school_name\"]).count()[\"student_name\"]\n",
    "per_passing_math_reading_count"
   ]
  },
  {
   "cell_type": "code",
   "execution_count": null,
   "id": "3e4ab986",
   "metadata": {},
   "outputs": [],
   "source": [
    "per_overall_passing_percentage = per_passing_math_reading_count / per_school_counts * 100\n",
    "per_overall_passing_percentage"
   ]
  },
  {
   "cell_type": "code",
   "execution_count": 184,
   "id": "cea9836e",
   "metadata": {},
   "outputs": [
    {
     "data": {
      "text/html": [
       "<div>\n",
       "<style scoped>\n",
       "    .dataframe tbody tr th:only-of-type {\n",
       "        vertical-align: middle;\n",
       "    }\n",
       "\n",
       "    .dataframe tbody tr th {\n",
       "        vertical-align: top;\n",
       "    }\n",
       "\n",
       "    .dataframe thead th {\n",
       "        text-align: right;\n",
       "    }\n",
       "</style>\n",
       "<table border=\"1\" class=\"dataframe\">\n",
       "  <thead>\n",
       "    <tr style=\"text-align: right;\">\n",
       "      <th></th>\n",
       "      <th>School Type</th>\n",
       "      <th>Total Students</th>\n",
       "      <th>Total School Budget</th>\n",
       "      <th>Per Student Budget</th>\n",
       "      <th>Average Math Score</th>\n",
       "      <th>Average Reading Score</th>\n",
       "      <th>% Passing Math</th>\n",
       "      <th>% Passing Reading</th>\n",
       "      <th>% Overall Passing</th>\n",
       "    </tr>\n",
       "  </thead>\n",
       "  <tbody>\n",
       "    <tr>\n",
       "      <th>Bailey High School</th>\n",
       "      <td>District</td>\n",
       "      <td>4976</td>\n",
       "      <td>3124928</td>\n",
       "      <td>628.0</td>\n",
       "      <td>77.048432</td>\n",
       "      <td>81.033963</td>\n",
       "      <td>66.680064</td>\n",
       "      <td>81.933280</td>\n",
       "      <td>54.642283</td>\n",
       "    </tr>\n",
       "    <tr>\n",
       "      <th>Cabrera High School</th>\n",
       "      <td>Charter</td>\n",
       "      <td>1858</td>\n",
       "      <td>1081356</td>\n",
       "      <td>582.0</td>\n",
       "      <td>83.061895</td>\n",
       "      <td>83.975780</td>\n",
       "      <td>94.133477</td>\n",
       "      <td>97.039828</td>\n",
       "      <td>91.334769</td>\n",
       "    </tr>\n",
       "    <tr>\n",
       "      <th>Figueroa High School</th>\n",
       "      <td>District</td>\n",
       "      <td>2949</td>\n",
       "      <td>1884411</td>\n",
       "      <td>639.0</td>\n",
       "      <td>76.711767</td>\n",
       "      <td>81.158020</td>\n",
       "      <td>65.988471</td>\n",
       "      <td>80.739234</td>\n",
       "      <td>53.204476</td>\n",
       "    </tr>\n",
       "    <tr>\n",
       "      <th>Ford High School</th>\n",
       "      <td>District</td>\n",
       "      <td>2739</td>\n",
       "      <td>1763916</td>\n",
       "      <td>644.0</td>\n",
       "      <td>77.102592</td>\n",
       "      <td>80.746258</td>\n",
       "      <td>68.309602</td>\n",
       "      <td>79.299014</td>\n",
       "      <td>54.289887</td>\n",
       "    </tr>\n",
       "    <tr>\n",
       "      <th>Griffin High School</th>\n",
       "      <td>Charter</td>\n",
       "      <td>1468</td>\n",
       "      <td>917500</td>\n",
       "      <td>625.0</td>\n",
       "      <td>83.351499</td>\n",
       "      <td>83.816757</td>\n",
       "      <td>93.392371</td>\n",
       "      <td>97.138965</td>\n",
       "      <td>90.599455</td>\n",
       "    </tr>\n",
       "  </tbody>\n",
       "</table>\n",
       "</div>"
      ],
      "text/plain": [
       "                     School Type  Total Students  Total School Budget  \\\n",
       "Bailey High School      District            4976              3124928   \n",
       "Cabrera High School      Charter            1858              1081356   \n",
       "Figueroa High School    District            2949              1884411   \n",
       "Ford High School        District            2739              1763916   \n",
       "Griffin High School      Charter            1468               917500   \n",
       "\n",
       "                      Per Student Budget  Average Math Score  \\\n",
       "Bailey High School                 628.0           77.048432   \n",
       "Cabrera High School                582.0           83.061895   \n",
       "Figueroa High School               639.0           76.711767   \n",
       "Ford High School                   644.0           77.102592   \n",
       "Griffin High School                625.0           83.351499   \n",
       "\n",
       "                      Average Reading Score  % Passing Math  \\\n",
       "Bailey High School                81.033963       66.680064   \n",
       "Cabrera High School               83.975780       94.133477   \n",
       "Figueroa High School              81.158020       65.988471   \n",
       "Ford High School                  80.746258       68.309602   \n",
       "Griffin High School               83.816757       93.392371   \n",
       "\n",
       "                      % Passing Reading  % Overall Passing  \n",
       "Bailey High School            81.933280          54.642283  \n",
       "Cabrera High School           97.039828          91.334769  \n",
       "Figueroa High School          80.739234          53.204476  \n",
       "Ford High School              79.299014          54.289887  \n",
       "Griffin High School           97.138965          90.599455  "
      ]
     },
     "execution_count": 184,
     "metadata": {},
     "output_type": "execute_result"
    }
   ],
   "source": [
    "per_school_summary_df = pd.DataFrame({\n",
    "    \"School Type\": per_school_types,\n",
    "    \"Total Students\": per_school_counts,\n",
    "    \"Total School Budget\" : per_school_budget,\n",
    "    \"Per Student Budget\" : per_school_capita,\n",
    "    \"Average Math Score\" : per_school_math,\n",
    "    \"Average Reading Score\" : per_school_reading,\n",
    "    \"% Passing Math\": per_school_passing_math,\n",
    "    \"% Passing Reading\" : per_school_passing_reading,\n",
    "    \"% Overall Passing\" : per_overall_passing_percentage})\n",
    "per_school_summary_df.head()"
   ]
  },
  {
   "cell_type": "code",
   "execution_count": 185,
   "id": "a18b4600",
   "metadata": {},
   "outputs": [],
   "source": [
    "per_school_summary_df[\"Total School Budget\"] = per_school_summary_df[\"Total School Budget\"].map(\"${:,.2f}\".format)"
   ]
  },
  {
   "cell_type": "code",
   "execution_count": 186,
   "id": "e93b9b84",
   "metadata": {},
   "outputs": [],
   "source": [
    "per_school_summary_df[\"Per Student Budget\"] = per_school_summary_df[\"Per Student Budget\"].map(\"${:,.2f}\".format)"
   ]
  },
  {
   "cell_type": "code",
   "execution_count": 187,
   "id": "b9f22b0b",
   "metadata": {},
   "outputs": [
    {
     "data": {
      "text/html": [
       "<div>\n",
       "<style scoped>\n",
       "    .dataframe tbody tr th:only-of-type {\n",
       "        vertical-align: middle;\n",
       "    }\n",
       "\n",
       "    .dataframe tbody tr th {\n",
       "        vertical-align: top;\n",
       "    }\n",
       "\n",
       "    .dataframe thead th {\n",
       "        text-align: right;\n",
       "    }\n",
       "</style>\n",
       "<table border=\"1\" class=\"dataframe\">\n",
       "  <thead>\n",
       "    <tr style=\"text-align: right;\">\n",
       "      <th></th>\n",
       "      <th>School Type</th>\n",
       "      <th>Total Students</th>\n",
       "      <th>Total School Budget</th>\n",
       "      <th>Per Student Budget</th>\n",
       "      <th>Average Math Score</th>\n",
       "      <th>Average Reading Score</th>\n",
       "      <th>% Passing Math</th>\n",
       "      <th>% Passing Reading</th>\n",
       "      <th>% Overall Passing</th>\n",
       "    </tr>\n",
       "  </thead>\n",
       "  <tbody>\n",
       "    <tr>\n",
       "      <th>Bailey High School</th>\n",
       "      <td>District</td>\n",
       "      <td>4976</td>\n",
       "      <td>$3,124,928.00</td>\n",
       "      <td>$628.00</td>\n",
       "      <td>77.048432</td>\n",
       "      <td>81.033963</td>\n",
       "      <td>66.680064</td>\n",
       "      <td>81.933280</td>\n",
       "      <td>54.642283</td>\n",
       "    </tr>\n",
       "    <tr>\n",
       "      <th>Cabrera High School</th>\n",
       "      <td>Charter</td>\n",
       "      <td>1858</td>\n",
       "      <td>$1,081,356.00</td>\n",
       "      <td>$582.00</td>\n",
       "      <td>83.061895</td>\n",
       "      <td>83.975780</td>\n",
       "      <td>94.133477</td>\n",
       "      <td>97.039828</td>\n",
       "      <td>91.334769</td>\n",
       "    </tr>\n",
       "    <tr>\n",
       "      <th>Figueroa High School</th>\n",
       "      <td>District</td>\n",
       "      <td>2949</td>\n",
       "      <td>$1,884,411.00</td>\n",
       "      <td>$639.00</td>\n",
       "      <td>76.711767</td>\n",
       "      <td>81.158020</td>\n",
       "      <td>65.988471</td>\n",
       "      <td>80.739234</td>\n",
       "      <td>53.204476</td>\n",
       "    </tr>\n",
       "    <tr>\n",
       "      <th>Ford High School</th>\n",
       "      <td>District</td>\n",
       "      <td>2739</td>\n",
       "      <td>$1,763,916.00</td>\n",
       "      <td>$644.00</td>\n",
       "      <td>77.102592</td>\n",
       "      <td>80.746258</td>\n",
       "      <td>68.309602</td>\n",
       "      <td>79.299014</td>\n",
       "      <td>54.289887</td>\n",
       "    </tr>\n",
       "    <tr>\n",
       "      <th>Griffin High School</th>\n",
       "      <td>Charter</td>\n",
       "      <td>1468</td>\n",
       "      <td>$917,500.00</td>\n",
       "      <td>$625.00</td>\n",
       "      <td>83.351499</td>\n",
       "      <td>83.816757</td>\n",
       "      <td>93.392371</td>\n",
       "      <td>97.138965</td>\n",
       "      <td>90.599455</td>\n",
       "    </tr>\n",
       "  </tbody>\n",
       "</table>\n",
       "</div>"
      ],
      "text/plain": [
       "                     School Type  Total Students Total School Budget  \\\n",
       "Bailey High School      District            4976       $3,124,928.00   \n",
       "Cabrera High School      Charter            1858       $1,081,356.00   \n",
       "Figueroa High School    District            2949       $1,884,411.00   \n",
       "Ford High School        District            2739       $1,763,916.00   \n",
       "Griffin High School      Charter            1468         $917,500.00   \n",
       "\n",
       "                     Per Student Budget  Average Math Score  \\\n",
       "Bailey High School              $628.00           77.048432   \n",
       "Cabrera High School             $582.00           83.061895   \n",
       "Figueroa High School            $639.00           76.711767   \n",
       "Ford High School                $644.00           77.102592   \n",
       "Griffin High School             $625.00           83.351499   \n",
       "\n",
       "                      Average Reading Score  % Passing Math  \\\n",
       "Bailey High School                81.033963       66.680064   \n",
       "Cabrera High School               83.975780       94.133477   \n",
       "Figueroa High School              81.158020       65.988471   \n",
       "Ford High School                  80.746258       68.309602   \n",
       "Griffin High School               83.816757       93.392371   \n",
       "\n",
       "                      % Passing Reading  % Overall Passing  \n",
       "Bailey High School            81.933280          54.642283  \n",
       "Cabrera High School           97.039828          91.334769  \n",
       "Figueroa High School          80.739234          53.204476  \n",
       "Ford High School              79.299014          54.289887  \n",
       "Griffin High School           97.138965          90.599455  "
      ]
     },
     "execution_count": 187,
     "metadata": {},
     "output_type": "execute_result"
    }
   ],
   "source": [
    "per_school_summary_df.head()"
   ]
  },
  {
   "cell_type": "code",
   "execution_count": 188,
   "id": "e19a513c",
   "metadata": {},
   "outputs": [],
   "source": [
    "new_column_order = [\"School Type\", \"Total Students\", \"Total School Budget\", \"Per Student Budget\", \"Average Math Score\", \"Average Reading Score\", \"% Passing Math\", \"% Passing Reading\", \"% Overall Passing\"]"
   ]
  },
  {
   "cell_type": "code",
   "execution_count": 190,
   "id": "5d87e92f",
   "metadata": {},
   "outputs": [
    {
     "data": {
      "text/html": [
       "<div>\n",
       "<style scoped>\n",
       "    .dataframe tbody tr th:only-of-type {\n",
       "        vertical-align: middle;\n",
       "    }\n",
       "\n",
       "    .dataframe tbody tr th {\n",
       "        vertical-align: top;\n",
       "    }\n",
       "\n",
       "    .dataframe thead th {\n",
       "        text-align: right;\n",
       "    }\n",
       "</style>\n",
       "<table border=\"1\" class=\"dataframe\">\n",
       "  <thead>\n",
       "    <tr style=\"text-align: right;\">\n",
       "      <th></th>\n",
       "      <th>School Type</th>\n",
       "      <th>Total Students</th>\n",
       "      <th>Total School Budget</th>\n",
       "      <th>Per Student Budget</th>\n",
       "      <th>Average Math Score</th>\n",
       "      <th>Average Reading Score</th>\n",
       "      <th>% Passing Math</th>\n",
       "      <th>% Passing Reading</th>\n",
       "      <th>% Overall Passing</th>\n",
       "    </tr>\n",
       "  </thead>\n",
       "  <tbody>\n",
       "    <tr>\n",
       "      <th>Bailey High School</th>\n",
       "      <td>District</td>\n",
       "      <td>4976</td>\n",
       "      <td>$3,124,928.00</td>\n",
       "      <td>$628.00</td>\n",
       "      <td>77.048432</td>\n",
       "      <td>81.033963</td>\n",
       "      <td>66.680064</td>\n",
       "      <td>81.933280</td>\n",
       "      <td>54.642283</td>\n",
       "    </tr>\n",
       "    <tr>\n",
       "      <th>Cabrera High School</th>\n",
       "      <td>Charter</td>\n",
       "      <td>1858</td>\n",
       "      <td>$1,081,356.00</td>\n",
       "      <td>$582.00</td>\n",
       "      <td>83.061895</td>\n",
       "      <td>83.975780</td>\n",
       "      <td>94.133477</td>\n",
       "      <td>97.039828</td>\n",
       "      <td>91.334769</td>\n",
       "    </tr>\n",
       "    <tr>\n",
       "      <th>Figueroa High School</th>\n",
       "      <td>District</td>\n",
       "      <td>2949</td>\n",
       "      <td>$1,884,411.00</td>\n",
       "      <td>$639.00</td>\n",
       "      <td>76.711767</td>\n",
       "      <td>81.158020</td>\n",
       "      <td>65.988471</td>\n",
       "      <td>80.739234</td>\n",
       "      <td>53.204476</td>\n",
       "    </tr>\n",
       "    <tr>\n",
       "      <th>Ford High School</th>\n",
       "      <td>District</td>\n",
       "      <td>2739</td>\n",
       "      <td>$1,763,916.00</td>\n",
       "      <td>$644.00</td>\n",
       "      <td>77.102592</td>\n",
       "      <td>80.746258</td>\n",
       "      <td>68.309602</td>\n",
       "      <td>79.299014</td>\n",
       "      <td>54.289887</td>\n",
       "    </tr>\n",
       "    <tr>\n",
       "      <th>Griffin High School</th>\n",
       "      <td>Charter</td>\n",
       "      <td>1468</td>\n",
       "      <td>$917,500.00</td>\n",
       "      <td>$625.00</td>\n",
       "      <td>83.351499</td>\n",
       "      <td>83.816757</td>\n",
       "      <td>93.392371</td>\n",
       "      <td>97.138965</td>\n",
       "      <td>90.599455</td>\n",
       "    </tr>\n",
       "  </tbody>\n",
       "</table>\n",
       "</div>"
      ],
      "text/plain": [
       "                     School Type  Total Students Total School Budget  \\\n",
       "Bailey High School      District            4976       $3,124,928.00   \n",
       "Cabrera High School      Charter            1858       $1,081,356.00   \n",
       "Figueroa High School    District            2949       $1,884,411.00   \n",
       "Ford High School        District            2739       $1,763,916.00   \n",
       "Griffin High School      Charter            1468         $917,500.00   \n",
       "\n",
       "                     Per Student Budget  Average Math Score  \\\n",
       "Bailey High School              $628.00           77.048432   \n",
       "Cabrera High School             $582.00           83.061895   \n",
       "Figueroa High School            $639.00           76.711767   \n",
       "Ford High School                $644.00           77.102592   \n",
       "Griffin High School             $625.00           83.351499   \n",
       "\n",
       "                      Average Reading Score  % Passing Math  \\\n",
       "Bailey High School                81.033963       66.680064   \n",
       "Cabrera High School               83.975780       94.133477   \n",
       "Figueroa High School              81.158020       65.988471   \n",
       "Ford High School                  80.746258       68.309602   \n",
       "Griffin High School               83.816757       93.392371   \n",
       "\n",
       "                      % Passing Reading  % Overall Passing  \n",
       "Bailey High School            81.933280          54.642283  \n",
       "Cabrera High School           97.039828          91.334769  \n",
       "Figueroa High School          80.739234          53.204476  \n",
       "Ford High School              79.299014          54.289887  \n",
       "Griffin High School           97.138965          90.599455  "
      ]
     },
     "execution_count": 190,
     "metadata": {},
     "output_type": "execute_result"
    }
   ],
   "source": [
    "per_school_summary_df = per_school_summary_df[new_column_order]\n",
    "per_school_summary_df.head()"
   ]
  },
  {
   "cell_type": "code",
   "execution_count": null,
   "id": "f6a5951f",
   "metadata": {},
   "outputs": [],
   "source": []
  }
 ],
 "metadata": {
  "kernelspec": {
   "display_name": "PythonData",
   "language": "python",
   "name": "pythondata"
  },
  "language_info": {
   "codemirror_mode": {
    "name": "ipython",
    "version": 3
   },
   "file_extension": ".py",
   "mimetype": "text/x-python",
   "name": "python",
   "nbconvert_exporter": "python",
   "pygments_lexer": "ipython3",
   "version": "3.9.7"
  }
 },
 "nbformat": 4,
 "nbformat_minor": 5
}
