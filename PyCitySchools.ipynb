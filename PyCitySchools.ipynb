git add PyCitySchools.ipynb Resources/PyCitySchools.ipynb
git commit -m"Adding PyCitySchools.ipynb file and Resoureces Folder."
