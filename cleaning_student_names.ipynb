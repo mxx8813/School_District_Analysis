{
 "cells": [
  {
   "cell_type": "code",
   "execution_count": null,
   "id": "e9623482",
   "metadata": {
    "scrolled": true
   },
   "outputs": [],
   "source": [
    "import pandas as pd\n"
   ]
  },
  {
   "cell_type": "code",
   "execution_count": null,
   "id": "4cf70ff3",
   "metadata": {
    "scrolled": true
   },
   "outputs": [],
   "source": [
    "student_data_to_load = \"Resources/students_complete.csv\"\n",
    "student_data_df = pd.read_csv(student_data_to_load)\n",
    "student_data_df.head()"
   ]
  },
  {
   "cell_type": "code",
   "execution_count": null,
   "id": "a4cd02e2",
   "metadata": {
    "scrolled": true
   },
   "outputs": [],
   "source": [
    "student_names = student_data_df[\"student_name\"].tolist()\n",
    "student_names"
   ]
  },
  {
   "cell_type": "code",
   "execution_count": null,
   "id": "f1b29f66",
   "metadata": {
    "scrolled": true
   },
   "outputs": [],
   "source": [
    "for name in student_names:\n",
    "    print(name.split(), len(name.split()))"
   ]
  },
  {
   "cell_type": "code",
   "execution_count": null,
   "id": "71c2e181",
   "metadata": {
    "scrolled": true
   },
   "outputs": [],
   "source": [
    "students_to_fix = []\n",
    "\n",
    "# If the name is greater than or equal to \"3\", add the name to the list.\n",
    "\n",
    "for name in student_names:\n",
    "    if len(name.split()) >= 3:\n",
    "        students_to_fix.append(name)\n",
    "        \n",
    "len(students_to_fix)\n"
   ]
  },
  {
   "cell_type": "code",
   "execution_count": null,
   "id": "2507bd2c",
   "metadata": {},
   "outputs": [],
   "source": [
    "\n",
    "prefixes = []\n",
    "\n",
    "# Add the prefixes less than or equal to 4 to a new list.\n",
    "\n",
    "for name in students_to_fix:\n",
    "    if len(name.split()[0]) <= 4:\n",
    "        prefixes.append(name.split()[0])\n",
    "print(prefixes)"
   ]
  },
  {
   "cell_type": "code",
   "execution_count": null,
   "id": "072caacd",
   "metadata": {},
   "outputs": [],
   "source": [
    "\n",
    "subffixes = []\n",
    "\n",
    "# Add the subfixes less than or equal to 4 to a new list.\n",
    "\n",
    "for name in students_to_fix:\n",
    "    if len(name.split()[-1]) <= 3:\n",
    "        subffixes.append(name.split()[-1])\n",
    "print(subffixes)"
   ]
  },
  {
   "cell_type": "code",
   "execution_count": null,
   "id": "9a76e365",
   "metadata": {},
   "outputs": [],
   "source": [
    "set(prefixes)"
   ]
  },
  {
   "cell_type": "code",
   "execution_count": 141,
   "id": "0d3fe478",
   "metadata": {},
   "outputs": [
    {
     "data": {
      "text/plain": [
       "{'Cox',\n",
       " 'DDS',\n",
       " 'DVM',\n",
       " 'Day',\n",
       " 'II',\n",
       " 'III',\n",
       " 'IV',\n",
       " 'Jr.',\n",
       " 'Kim',\n",
       " 'Lee',\n",
       " 'Li',\n",
       " 'MD',\n",
       " 'PhD',\n",
       " 'Roy',\n",
       " 'V'}"
      ]
     },
     "execution_count": 141,
     "metadata": {},
     "output_type": "execute_result"
    }
   ],
   "source": [
    "set(subffixes)"
   ]
  },
  {
   "cell_type": "code",
   "execution_count": null,
   "id": "2d63a89f",
   "metadata": {},
   "outputs": [],
   "source": [
    "prefixes_suffixes = [\"Dr. \", \"Mr. \",\"Ms. \", \"Mrs. \", \"Miss \", \" MD\", \" DDS\", \" DVM\", \" PhD\"]"
   ]
  },
  {
   "cell_type": "code",
   "execution_count": null,
   "id": "b5478382",
   "metadata": {},
   "outputs": [],
   "source": [
    "for word in prefixes_suffixes:\n",
    "    student_data_df[\"student_name\"] = student_data_df[\"student_name\"].str.replace(word,\"\",regex=True)\n",
    "student_data_df.head(10)"
   ]
  },
  {
   "cell_type": "code",
   "execution_count": null,
   "id": "f8da9a8c",
   "metadata": {},
   "outputs": [],
   "source": [
    "student_names = student_data_df[\"student_name\"].tolist()\n",
    "student_names"
   ]
  },
  {
   "cell_type": "code",
   "execution_count": null,
   "id": "aa9c5f2d",
   "metadata": {},
   "outputs": [],
   "source": [
    "students_fixed = []\n",
    "for name in student_names:\n",
    "    if len(name.split()) >= 3:\n",
    "        students_fixed.append(name)\n",
    "len(students_fixed)"
   ]
  },
  {
   "cell_type": "code",
   "execution_count": null,
   "id": "912b4b4c",
   "metadata": {},
   "outputs": [],
   "source": [
    "print(students_fixed)"
   ]
  },
  {
   "cell_type": "code",
   "execution_count": null,
   "id": "d56823b0",
   "metadata": {},
   "outputs": [],
   "source": []
  }
 ],
 "metadata": {
  "kernelspec": {
   "display_name": "PythonData",
   "language": "python",
   "name": "pythondata"
  },
  "language_info": {
   "codemirror_mode": {
    "name": "ipython",
    "version": 3
   },
   "file_extension": ".py",
   "mimetype": "text/x-python",
   "name": "python",
   "nbconvert_exporter": "python",
   "pygments_lexer": "ipython3",
   "version": "3.9.7"
  }
 },
 "nbformat": 4,
 "nbformat_minor": 5
}
